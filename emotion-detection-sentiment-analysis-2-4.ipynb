{
 "cells": [
  {
   "cell_type": "code",
   "execution_count": 1,
   "id": "2951482c",
   "metadata": {
    "_cell_guid": "b1076dfc-b9ad-4769-8c92-a6c4dae69d19",
    "_uuid": "8f2839f25d086af736a60e9eeb907d3b93b6e0e5",
    "execution": {
     "iopub.execute_input": "2022-09-16T05:41:06.950277Z",
     "iopub.status.busy": "2022-09-16T05:41:06.949751Z",
     "iopub.status.idle": "2022-09-16T05:41:06.971261Z",
     "shell.execute_reply": "2022-09-16T05:41:06.970017Z"
    },
    "papermill": {
     "duration": 0.035871,
     "end_time": "2022-09-16T05:41:06.973890",
     "exception": false,
     "start_time": "2022-09-16T05:41:06.938019",
     "status": "completed"
    },
    "tags": []
   },
   "outputs": [
    {
     "name": "stdout",
     "output_type": "stream",
     "text": [
      "/kaggle/input/emotion-detection-from-text/tweet_emotions.csv\n"
     ]
    }
   ],
   "source": [
    "# This Python 3 environment comes with many helpful analytics libraries installed\n",
    "# It is defined by the kaggle/python Docker image: https://github.com/kaggle/docker-python\n",
    "# For example, here's several helpful packages to load\n",
    "\n",
    "import numpy as np # linear algebra\n",
    "import pandas as pd # data processing, CSV file I/O (e.g. pd.read_csv)\n",
    "\n",
    "# Input data files are available in the read-only \"../input/\" directory\n",
    "# For example, running this (by clicking run or pressing Shift+Enter) will list all files under the input directory\n",
    "\n",
    "import os\n",
    "for dirname, _, filenames in os.walk('/kaggle/input'):\n",
    "    for filename in filenames:\n",
    "        print(os.path.join(dirname, filename))\n",
    "\n",
    "# You can write up to 20GB to the current directory (/kaggle/working/) that gets preserved as output when you create a version using \"Save & Run All\" \n",
    "# You can also write temporary files to /kaggle/temp/, but they won't be saved outside of the current session"
   ]
  },
  {
   "cell_type": "markdown",
   "id": "88581d58",
   "metadata": {
    "papermill": {
     "duration": 0.008366,
     "end_time": "2022-09-16T05:41:06.991475",
     "exception": false,
     "start_time": "2022-09-16T05:41:06.983109",
     "status": "completed"
    },
    "tags": []
   },
   "source": [
    "## Importing Libraries"
   ]
  },
  {
   "cell_type": "code",
   "execution_count": 2,
   "id": "a5e135d5",
   "metadata": {
    "execution": {
     "iopub.execute_input": "2022-09-16T05:41:07.010831Z",
     "iopub.status.busy": "2022-09-16T05:41:07.010204Z",
     "iopub.status.idle": "2022-09-16T05:41:08.945914Z",
     "shell.execute_reply": "2022-09-16T05:41:08.944963Z"
    },
    "papermill": {
     "duration": 1.948327,
     "end_time": "2022-09-16T05:41:08.948470",
     "exception": false,
     "start_time": "2022-09-16T05:41:07.000143",
     "status": "completed"
    },
    "tags": []
   },
   "outputs": [],
   "source": [
    "import re\n",
    "import nltk\n",
    "from nltk.corpus import stopwords \n",
    "from sklearn.model_selection import train_test_split \n",
    "from sklearn.feature_extraction.text import TfidfVectorizer\n",
    "from sklearn.preprocessing import LabelEncoder \n",
    "from sklearn.ensemble import RandomForestClassifier \n",
    "from sklearn.naive_bayes import MultinomialNB \n",
    "from sklearn.linear_model import LogisticRegression\n",
    "from textblob import Word"
   ]
  },
  {
   "cell_type": "code",
   "execution_count": 3,
   "id": "0e1b0247",
   "metadata": {
    "execution": {
     "iopub.execute_input": "2022-09-16T05:41:08.968593Z",
     "iopub.status.busy": "2022-09-16T05:41:08.967728Z",
     "iopub.status.idle": "2022-09-16T05:41:11.893263Z",
     "shell.execute_reply": "2022-09-16T05:41:11.891881Z"
    },
    "papermill": {
     "duration": 2.938024,
     "end_time": "2022-09-16T05:41:11.895702",
     "exception": false,
     "start_time": "2022-09-16T05:41:08.957678",
     "status": "completed"
    },
    "tags": []
   },
   "outputs": [
    {
     "name": "stdout",
     "output_type": "stream",
     "text": [
      "[nltk_data] Downloading package brown to /usr/share/nltk_data...\r\n",
      "[nltk_data]   Package brown is already up-to-date!\r\n",
      "[nltk_data] Downloading package punkt to /usr/share/nltk_data...\r\n",
      "[nltk_data]   Package punkt is already up-to-date!\r\n",
      "[nltk_data] Downloading package wordnet to /usr/share/nltk_data...\r\n",
      "[nltk_data]   Package wordnet is already up-to-date!\r\n",
      "[nltk_data] Downloading package averaged_perceptron_tagger to\r\n",
      "[nltk_data]     /usr/share/nltk_data...\r\n",
      "[nltk_data]   Package averaged_perceptron_tagger is already up-to-\r\n",
      "[nltk_data]       date!\r\n",
      "[nltk_data] Downloading package conll2000 to /usr/share/nltk_data...\r\n",
      "[nltk_data]   Package conll2000 is already up-to-date!\r\n",
      "[nltk_data] Downloading package movie_reviews to\r\n",
      "[nltk_data]     /usr/share/nltk_data...\r\n",
      "[nltk_data]   Package movie_reviews is already up-to-date!\r\n",
      "Finished.\r\n"
     ]
    },
    {
     "name": "stderr",
     "output_type": "stream",
     "text": [
      "[nltk_data] Downloading package omw-1.4 to /usr/share/nltk_data...\n"
     ]
    },
    {
     "data": {
      "text/plain": [
       "True"
      ]
     },
     "execution_count": 3,
     "metadata": {},
     "output_type": "execute_result"
    }
   ],
   "source": [
    "!python -m textblob.download_corpora\n",
    "nltk.download('omw-1.4')"
   ]
  },
  {
   "cell_type": "markdown",
   "id": "3b0b136d",
   "metadata": {
    "papermill": {
     "duration": 0.008951,
     "end_time": "2022-09-16T05:41:11.914115",
     "exception": false,
     "start_time": "2022-09-16T05:41:11.905164",
     "status": "completed"
    },
    "tags": []
   },
   "source": [
    "## Loading and preprocessing data"
   ]
  },
  {
   "cell_type": "code",
   "execution_count": 4,
   "id": "0bbd63d8",
   "metadata": {
    "execution": {
     "iopub.execute_input": "2022-09-16T05:41:11.935595Z",
     "iopub.status.busy": "2022-09-16T05:41:11.934703Z",
     "iopub.status.idle": "2022-09-16T05:41:12.091628Z",
     "shell.execute_reply": "2022-09-16T05:41:12.090138Z"
    },
    "papermill": {
     "duration": 0.170936,
     "end_time": "2022-09-16T05:41:12.094775",
     "exception": false,
     "start_time": "2022-09-16T05:41:11.923839",
     "status": "completed"
    },
    "tags": []
   },
   "outputs": [],
   "source": [
    "train = pd.read_csv(\"/kaggle/input/emotion-detection-from-text/tweet_emotions.csv\")"
   ]
  },
  {
   "cell_type": "code",
   "execution_count": 5,
   "id": "ee27e6d1",
   "metadata": {
    "execution": {
     "iopub.execute_input": "2022-09-16T05:41:12.116409Z",
     "iopub.status.busy": "2022-09-16T05:41:12.115742Z",
     "iopub.status.idle": "2022-09-16T05:41:12.142843Z",
     "shell.execute_reply": "2022-09-16T05:41:12.141650Z"
    },
    "papermill": {
     "duration": 0.04095,
     "end_time": "2022-09-16T05:41:12.145235",
     "exception": false,
     "start_time": "2022-09-16T05:41:12.104285",
     "status": "completed"
    },
    "tags": []
   },
   "outputs": [
    {
     "data": {
      "text/html": [
       "<div>\n",
       "<style scoped>\n",
       "    .dataframe tbody tr th:only-of-type {\n",
       "        vertical-align: middle;\n",
       "    }\n",
       "\n",
       "    .dataframe tbody tr th {\n",
       "        vertical-align: top;\n",
       "    }\n",
       "\n",
       "    .dataframe thead th {\n",
       "        text-align: right;\n",
       "    }\n",
       "</style>\n",
       "<table border=\"1\" class=\"dataframe\">\n",
       "  <thead>\n",
       "    <tr style=\"text-align: right;\">\n",
       "      <th></th>\n",
       "      <th>sentiment</th>\n",
       "      <th>content</th>\n",
       "    </tr>\n",
       "  </thead>\n",
       "  <tbody>\n",
       "    <tr>\n",
       "      <th>0</th>\n",
       "      <td>empty</td>\n",
       "      <td>@tiffanylue i know  i was listenin to bad habi...</td>\n",
       "    </tr>\n",
       "    <tr>\n",
       "      <th>1</th>\n",
       "      <td>sadness</td>\n",
       "      <td>Layin n bed with a headache  ughhhh...waitin o...</td>\n",
       "    </tr>\n",
       "    <tr>\n",
       "      <th>2</th>\n",
       "      <td>sadness</td>\n",
       "      <td>Funeral ceremony...gloomy friday...</td>\n",
       "    </tr>\n",
       "    <tr>\n",
       "      <th>3</th>\n",
       "      <td>enthusiasm</td>\n",
       "      <td>wants to hang out with friends SOON!</td>\n",
       "    </tr>\n",
       "    <tr>\n",
       "      <th>4</th>\n",
       "      <td>neutral</td>\n",
       "      <td>@dannycastillo We want to trade with someone w...</td>\n",
       "    </tr>\n",
       "  </tbody>\n",
       "</table>\n",
       "</div>"
      ],
      "text/plain": [
       "    sentiment                                            content\n",
       "0       empty  @tiffanylue i know  i was listenin to bad habi...\n",
       "1     sadness  Layin n bed with a headache  ughhhh...waitin o...\n",
       "2     sadness                Funeral ceremony...gloomy friday...\n",
       "3  enthusiasm               wants to hang out with friends SOON!\n",
       "4     neutral  @dannycastillo We want to trade with someone w..."
      ]
     },
     "execution_count": 5,
     "metadata": {},
     "output_type": "execute_result"
    }
   ],
   "source": [
    "train = train.drop(['tweet_id'],axis=1)\n",
    "train.head()"
   ]
  },
  {
   "cell_type": "code",
   "execution_count": 6,
   "id": "2eec1b5b",
   "metadata": {
    "execution": {
     "iopub.execute_input": "2022-09-16T05:41:12.167546Z",
     "iopub.status.busy": "2022-09-16T05:41:12.166614Z",
     "iopub.status.idle": "2022-09-16T05:41:12.181527Z",
     "shell.execute_reply": "2022-09-16T05:41:12.180411Z"
    },
    "papermill": {
     "duration": 0.028346,
     "end_time": "2022-09-16T05:41:12.184139",
     "exception": false,
     "start_time": "2022-09-16T05:41:12.155793",
     "status": "completed"
    },
    "tags": []
   },
   "outputs": [
    {
     "data": {
      "text/plain": [
       "array(['empty', 'sadness', 'enthusiasm', 'neutral', 'worry', 'surprise',\n",
       "       'love', 'fun', 'hate', 'happiness', 'boredom', 'relief', 'anger'],\n",
       "      dtype=object)"
      ]
     },
     "execution_count": 6,
     "metadata": {},
     "output_type": "execute_result"
    }
   ],
   "source": [
    "train['sentiment'].unique()"
   ]
  },
  {
   "cell_type": "code",
   "execution_count": 7,
   "id": "cd45137e",
   "metadata": {
    "execution": {
     "iopub.execute_input": "2022-09-16T05:41:12.205259Z",
     "iopub.status.busy": "2022-09-16T05:41:12.204597Z",
     "iopub.status.idle": "2022-09-16T05:41:12.219355Z",
     "shell.execute_reply": "2022-09-16T05:41:12.218127Z"
    },
    "papermill": {
     "duration": 0.028241,
     "end_time": "2022-09-16T05:41:12.222052",
     "exception": false,
     "start_time": "2022-09-16T05:41:12.193811",
     "status": "completed"
    },
    "tags": []
   },
   "outputs": [
    {
     "data": {
      "text/plain": [
       "sentiment    0\n",
       "content      0\n",
       "dtype: int64"
      ]
     },
     "execution_count": 7,
     "metadata": {},
     "output_type": "execute_result"
    }
   ],
   "source": [
    "train.isnull().sum()"
   ]
  },
  {
   "cell_type": "code",
   "execution_count": 8,
   "id": "c5ef913d",
   "metadata": {
    "execution": {
     "iopub.execute_input": "2022-09-16T05:41:12.243711Z",
     "iopub.status.busy": "2022-09-16T05:41:12.242873Z",
     "iopub.status.idle": "2022-09-16T05:41:12.252499Z",
     "shell.execute_reply": "2022-09-16T05:41:12.251483Z"
    },
    "papermill": {
     "duration": 0.02318,
     "end_time": "2022-09-16T05:41:12.255037",
     "exception": false,
     "start_time": "2022-09-16T05:41:12.231857",
     "status": "completed"
    },
    "tags": []
   },
   "outputs": [],
   "source": [
    "STOPWORDS = stopwords.words(\"english\")"
   ]
  },
  {
   "cell_type": "code",
   "execution_count": 9,
   "id": "9b4bed1e",
   "metadata": {
    "execution": {
     "iopub.execute_input": "2022-09-16T05:41:12.276777Z",
     "iopub.status.busy": "2022-09-16T05:41:12.276019Z",
     "iopub.status.idle": "2022-09-16T05:41:12.282028Z",
     "shell.execute_reply": "2022-09-16T05:41:12.281104Z"
    },
    "papermill": {
     "duration": 0.019541,
     "end_time": "2022-09-16T05:41:12.284493",
     "exception": false,
     "start_time": "2022-09-16T05:41:12.264952",
     "status": "completed"
    },
    "tags": []
   },
   "outputs": [],
   "source": [
    "def clean(text):\n",
    "    text = text.lower()\n",
    "    text = re.sub(\"[^\\w\\s]\",\"\",text) # Remove punctuations \n",
    "    text = \" \".join(w for w in text.split() if w not in STOPWORDS)\n",
    "    text = \" \".join([Word(word).lemmatize() for word in text.split()])\n",
    "    return text"
   ]
  },
  {
   "cell_type": "code",
   "execution_count": 10,
   "id": "6a7b03d9",
   "metadata": {
    "execution": {
     "iopub.execute_input": "2022-09-16T05:41:12.306719Z",
     "iopub.status.busy": "2022-09-16T05:41:12.305978Z",
     "iopub.status.idle": "2022-09-16T05:41:12.311055Z",
     "shell.execute_reply": "2022-09-16T05:41:12.310180Z"
    },
    "papermill": {
     "duration": 0.019021,
     "end_time": "2022-09-16T05:41:12.313409",
     "exception": false,
     "start_time": "2022-09-16T05:41:12.294388",
     "status": "completed"
    },
    "tags": []
   },
   "outputs": [],
   "source": [
    "def remove_duplicates(text):\n",
    "    pattern = re.compile(r\"(.)\\1{2,}\")\n",
    "    return pattern.sub(r\"\\1\\1\", text)"
   ]
  },
  {
   "cell_type": "code",
   "execution_count": 11,
   "id": "82612384",
   "metadata": {
    "execution": {
     "iopub.execute_input": "2022-09-16T05:41:12.335272Z",
     "iopub.status.busy": "2022-09-16T05:41:12.334640Z",
     "iopub.status.idle": "2022-09-16T05:41:18.291854Z",
     "shell.execute_reply": "2022-09-16T05:41:18.290435Z"
    },
    "papermill": {
     "duration": 5.971327,
     "end_time": "2022-09-16T05:41:18.294792",
     "exception": false,
     "start_time": "2022-09-16T05:41:12.323465",
     "status": "completed"
    },
    "tags": []
   },
   "outputs": [],
   "source": [
    "train['text'] = train['content'].apply(lambda x : clean(x)) \n",
    "train['text'] = train['text'].apply(lambda x :  remove_duplicates(x))"
   ]
  },
  {
   "cell_type": "code",
   "execution_count": 12,
   "id": "510d76f0",
   "metadata": {
    "execution": {
     "iopub.execute_input": "2022-09-16T05:41:18.315989Z",
     "iopub.status.busy": "2022-09-16T05:41:18.315575Z",
     "iopub.status.idle": "2022-09-16T05:41:18.485633Z",
     "shell.execute_reply": "2022-09-16T05:41:18.484671Z"
    },
    "papermill": {
     "duration": 0.183483,
     "end_time": "2022-09-16T05:41:18.488215",
     "exception": false,
     "start_time": "2022-09-16T05:41:18.304732",
     "status": "completed"
    },
    "tags": []
   },
   "outputs": [],
   "source": [
    "freq=  pd.Series(\" \".join(train['text']).split()).value_counts()[-10000:] # Now remove rare words that appears in the list"
   ]
  },
  {
   "cell_type": "code",
   "execution_count": 13,
   "id": "1af13418",
   "metadata": {
    "execution": {
     "iopub.execute_input": "2022-09-16T05:41:18.509707Z",
     "iopub.status.busy": "2022-09-16T05:41:18.508601Z",
     "iopub.status.idle": "2022-09-16T05:41:18.518510Z",
     "shell.execute_reply": "2022-09-16T05:41:18.517703Z"
    },
    "papermill": {
     "duration": 0.023109,
     "end_time": "2022-09-16T05:41:18.520851",
     "exception": false,
     "start_time": "2022-09-16T05:41:18.497742",
     "status": "completed"
    },
    "tags": []
   },
   "outputs": [],
   "source": [
    "freq =  list(freq.index)"
   ]
  },
  {
   "cell_type": "code",
   "execution_count": 14,
   "id": "f5080fda",
   "metadata": {
    "execution": {
     "iopub.execute_input": "2022-09-16T05:41:18.541982Z",
     "iopub.status.busy": "2022-09-16T05:41:18.541372Z",
     "iopub.status.idle": "2022-09-16T05:42:19.084861Z",
     "shell.execute_reply": "2022-09-16T05:42:19.083636Z"
    },
    "papermill": {
     "duration": 60.557308,
     "end_time": "2022-09-16T05:42:19.087775",
     "exception": false,
     "start_time": "2022-09-16T05:41:18.530467",
     "status": "completed"
    },
    "tags": []
   },
   "outputs": [],
   "source": [
    "train['text'] = train['text'].apply(lambda x:  \" \".join(x for x in x.split() if x not in freq))"
   ]
  },
  {
   "cell_type": "code",
   "execution_count": 15,
   "id": "da1f02a5",
   "metadata": {
    "execution": {
     "iopub.execute_input": "2022-09-16T05:42:19.110099Z",
     "iopub.status.busy": "2022-09-16T05:42:19.109488Z",
     "iopub.status.idle": "2022-09-16T05:42:19.119380Z",
     "shell.execute_reply": "2022-09-16T05:42:19.118287Z"
    },
    "papermill": {
     "duration": 0.023905,
     "end_time": "2022-09-16T05:42:19.121841",
     "exception": false,
     "start_time": "2022-09-16T05:42:19.097936",
     "status": "completed"
    },
    "tags": []
   },
   "outputs": [
    {
     "data": {
      "text/html": [
       "<div>\n",
       "<style scoped>\n",
       "    .dataframe tbody tr th:only-of-type {\n",
       "        vertical-align: middle;\n",
       "    }\n",
       "\n",
       "    .dataframe tbody tr th {\n",
       "        vertical-align: top;\n",
       "    }\n",
       "\n",
       "    .dataframe thead th {\n",
       "        text-align: right;\n",
       "    }\n",
       "</style>\n",
       "<table border=\"1\" class=\"dataframe\">\n",
       "  <thead>\n",
       "    <tr style=\"text-align: right;\">\n",
       "      <th></th>\n",
       "      <th>sentiment</th>\n",
       "      <th>content</th>\n",
       "      <th>text</th>\n",
       "    </tr>\n",
       "  </thead>\n",
       "  <tbody>\n",
       "    <tr>\n",
       "      <th>0</th>\n",
       "      <td>empty</td>\n",
       "      <td>@tiffanylue i know  i was listenin to bad habi...</td>\n",
       "      <td>tiffanylue know listenin bad habit earlier sta...</td>\n",
       "    </tr>\n",
       "    <tr>\n",
       "      <th>1</th>\n",
       "      <td>sadness</td>\n",
       "      <td>Layin n bed with a headache  ughhhh...waitin o...</td>\n",
       "      <td>layin n bed headache ughhwaitin call</td>\n",
       "    </tr>\n",
       "    <tr>\n",
       "      <th>2</th>\n",
       "      <td>sadness</td>\n",
       "      <td>Funeral ceremony...gloomy friday...</td>\n",
       "      <td>funeral ceremonygloomy friday</td>\n",
       "    </tr>\n",
       "    <tr>\n",
       "      <th>3</th>\n",
       "      <td>enthusiasm</td>\n",
       "      <td>wants to hang out with friends SOON!</td>\n",
       "      <td>want hang friend soon</td>\n",
       "    </tr>\n",
       "    <tr>\n",
       "      <th>4</th>\n",
       "      <td>neutral</td>\n",
       "      <td>@dannycastillo We want to trade with someone w...</td>\n",
       "      <td>dannycastillo want trade someone houston ticke...</td>\n",
       "    </tr>\n",
       "  </tbody>\n",
       "</table>\n",
       "</div>"
      ],
      "text/plain": [
       "    sentiment                                            content  \\\n",
       "0       empty  @tiffanylue i know  i was listenin to bad habi...   \n",
       "1     sadness  Layin n bed with a headache  ughhhh...waitin o...   \n",
       "2     sadness                Funeral ceremony...gloomy friday...   \n",
       "3  enthusiasm               wants to hang out with friends SOON!   \n",
       "4     neutral  @dannycastillo We want to trade with someone w...   \n",
       "\n",
       "                                                text  \n",
       "0  tiffanylue know listenin bad habit earlier sta...  \n",
       "1               layin n bed headache ughhwaitin call  \n",
       "2                      funeral ceremonygloomy friday  \n",
       "3                              want hang friend soon  \n",
       "4  dannycastillo want trade someone houston ticke...  "
      ]
     },
     "execution_count": 15,
     "metadata": {},
     "output_type": "execute_result"
    }
   ],
   "source": [
    "train.head()"
   ]
  },
  {
   "cell_type": "code",
   "execution_count": 16,
   "id": "21be5647",
   "metadata": {
    "execution": {
     "iopub.execute_input": "2022-09-16T05:42:19.143541Z",
     "iopub.status.busy": "2022-09-16T05:42:19.143153Z",
     "iopub.status.idle": "2022-09-16T05:42:19.151191Z",
     "shell.execute_reply": "2022-09-16T05:42:19.150052Z"
    },
    "papermill": {
     "duration": 0.0217,
     "end_time": "2022-09-16T05:42:19.153513",
     "exception": false,
     "start_time": "2022-09-16T05:42:19.131813",
     "status": "completed"
    },
    "tags": []
   },
   "outputs": [],
   "source": [
    "x = np.array(train['text'].values)[:20000]\n",
    "y =  np.array(train['sentiment'].values)[:20000]"
   ]
  },
  {
   "cell_type": "code",
   "execution_count": 17,
   "id": "f7bea6f0",
   "metadata": {
    "execution": {
     "iopub.execute_input": "2022-09-16T05:42:19.175528Z",
     "iopub.status.busy": "2022-09-16T05:42:19.175124Z",
     "iopub.status.idle": "2022-09-16T05:42:19.185007Z",
     "shell.execute_reply": "2022-09-16T05:42:19.183911Z"
    },
    "papermill": {
     "duration": 0.023564,
     "end_time": "2022-09-16T05:42:19.187387",
     "exception": false,
     "start_time": "2022-09-16T05:42:19.163823",
     "status": "completed"
    },
    "tags": []
   },
   "outputs": [],
   "source": [
    "Le = LabelEncoder()\n",
    "y =  Le.fit_transform(y)"
   ]
  },
  {
   "cell_type": "code",
   "execution_count": 18,
   "id": "223e8457",
   "metadata": {
    "execution": {
     "iopub.execute_input": "2022-09-16T05:42:19.209346Z",
     "iopub.status.busy": "2022-09-16T05:42:19.208920Z",
     "iopub.status.idle": "2022-09-16T05:42:19.214268Z",
     "shell.execute_reply": "2022-09-16T05:42:19.213321Z"
    },
    "papermill": {
     "duration": 0.018899,
     "end_time": "2022-09-16T05:42:19.216550",
     "exception": false,
     "start_time": "2022-09-16T05:42:19.197651",
     "status": "completed"
    },
    "tags": []
   },
   "outputs": [
    {
     "name": "stdout",
     "output_type": "stream",
     "text": [
      "x Shape : (20000,)\n",
      "Y shape : (20000,)\n"
     ]
    }
   ],
   "source": [
    "print(\"x Shape : {}\".format(x.shape))\n",
    "print(\"Y shape : {}\".format(y.shape))"
   ]
  },
  {
   "cell_type": "code",
   "execution_count": 19,
   "id": "18273634",
   "metadata": {
    "execution": {
     "iopub.execute_input": "2022-09-16T05:42:19.238188Z",
     "iopub.status.busy": "2022-09-16T05:42:19.237746Z",
     "iopub.status.idle": "2022-09-16T05:42:19.255330Z",
     "shell.execute_reply": "2022-09-16T05:42:19.254282Z"
    },
    "papermill": {
     "duration": 0.031383,
     "end_time": "2022-09-16T05:42:19.257765",
     "exception": false,
     "start_time": "2022-09-16T05:42:19.226382",
     "status": "completed"
    },
    "tags": []
   },
   "outputs": [],
   "source": [
    "x_train,x_test,y_train,y_test = train_test_split(x,y,test_size=0.2,shuffle=True,random_state=42,stratify=y)"
   ]
  },
  {
   "cell_type": "code",
   "execution_count": 20,
   "id": "950cdc2c",
   "metadata": {
    "execution": {
     "iopub.execute_input": "2022-09-16T05:42:19.280334Z",
     "iopub.status.busy": "2022-09-16T05:42:19.279609Z",
     "iopub.status.idle": "2022-09-16T05:42:19.285724Z",
     "shell.execute_reply": "2022-09-16T05:42:19.284572Z"
    },
    "papermill": {
     "duration": 0.019893,
     "end_time": "2022-09-16T05:42:19.287910",
     "exception": false,
     "start_time": "2022-09-16T05:42:19.268017",
     "status": "completed"
    },
    "tags": []
   },
   "outputs": [
    {
     "data": {
      "text/plain": [
       "(16000,)"
      ]
     },
     "execution_count": 20,
     "metadata": {},
     "output_type": "execute_result"
    }
   ],
   "source": [
    "x_train.shape"
   ]
  },
  {
   "cell_type": "code",
   "execution_count": 21,
   "id": "56a56670",
   "metadata": {
    "execution": {
     "iopub.execute_input": "2022-09-16T05:42:19.309704Z",
     "iopub.status.busy": "2022-09-16T05:42:19.309303Z",
     "iopub.status.idle": "2022-09-16T05:42:19.316589Z",
     "shell.execute_reply": "2022-09-16T05:42:19.315412Z"
    },
    "papermill": {
     "duration": 0.021041,
     "end_time": "2022-09-16T05:42:19.318901",
     "exception": false,
     "start_time": "2022-09-16T05:42:19.297860",
     "status": "completed"
    },
    "tags": []
   },
   "outputs": [
    {
     "data": {
      "text/plain": [
       "array(['hahaha thanks clearing', 'sigh guess gonna meet today',\n",
       "       'leaving utah today super sad face', ...,\n",
       "       'bummer might make sunday show hopefully sun shine cloudy day',\n",
       "       'im fine bit tired im glad weekend',\n",
       "       'almost tomorrow 8 start 291kms mud httpmobypicturecomzx33t1'],\n",
       "      dtype=object)"
      ]
     },
     "execution_count": 21,
     "metadata": {},
     "output_type": "execute_result"
    }
   ],
   "source": [
    "x_train"
   ]
  },
  {
   "cell_type": "code",
   "execution_count": 22,
   "id": "24ca8619",
   "metadata": {
    "execution": {
     "iopub.execute_input": "2022-09-16T05:42:19.341086Z",
     "iopub.status.busy": "2022-09-16T05:42:19.340682Z",
     "iopub.status.idle": "2022-09-16T05:42:19.347442Z",
     "shell.execute_reply": "2022-09-16T05:42:19.346189Z"
    },
    "papermill": {
     "duration": 0.020494,
     "end_time": "2022-09-16T05:42:19.349689",
     "exception": false,
     "start_time": "2022-09-16T05:42:19.329195",
     "status": "completed"
    },
    "tags": []
   },
   "outputs": [
    {
     "data": {
      "text/plain": [
       "array([ 2, 10, 10, ...,  8, 11, 12])"
      ]
     },
     "execution_count": 22,
     "metadata": {},
     "output_type": "execute_result"
    }
   ],
   "source": [
    "y"
   ]
  },
  {
   "cell_type": "markdown",
   "id": "b5c9919f",
   "metadata": {
    "papermill": {
     "duration": 0.010554,
     "end_time": "2022-09-16T05:42:19.370875",
     "exception": false,
     "start_time": "2022-09-16T05:42:19.360321",
     "status": "completed"
    },
    "tags": []
   },
   "source": [
    "## Using TfidfVectorizer"
   ]
  },
  {
   "cell_type": "code",
   "execution_count": 23,
   "id": "b44b8e33",
   "metadata": {
    "execution": {
     "iopub.execute_input": "2022-09-16T05:42:19.392765Z",
     "iopub.status.busy": "2022-09-16T05:42:19.392381Z",
     "iopub.status.idle": "2022-09-16T05:42:20.582463Z",
     "shell.execute_reply": "2022-09-16T05:42:20.581303Z"
    },
    "papermill": {
     "duration": 1.204256,
     "end_time": "2022-09-16T05:42:20.585382",
     "exception": false,
     "start_time": "2022-09-16T05:42:19.381126",
     "status": "completed"
    },
    "tags": []
   },
   "outputs": [],
   "source": [
    "tf = TfidfVectorizer(analyzer='word',max_features=1000,ngram_range=(1,3))\n",
    "x_tf = tf.fit_transform(x_train)\n",
    "x_val_tf = tf.transform(x_test)"
   ]
  },
  {
   "cell_type": "code",
   "execution_count": 24,
   "id": "5f6e648d",
   "metadata": {
    "execution": {
     "iopub.execute_input": "2022-09-16T05:42:20.607887Z",
     "iopub.status.busy": "2022-09-16T05:42:20.607464Z",
     "iopub.status.idle": "2022-09-16T05:42:20.824521Z",
     "shell.execute_reply": "2022-09-16T05:42:20.823236Z"
    },
    "papermill": {
     "duration": 0.231608,
     "end_time": "2022-09-16T05:42:20.827439",
     "exception": false,
     "start_time": "2022-09-16T05:42:20.595831",
     "status": "completed"
    },
    "tags": []
   },
   "outputs": [],
   "source": [
    "x_tf   = x_tf.toarray()\n",
    "x_val_tf =  x_val_tf.toarray()"
   ]
  },
  {
   "cell_type": "code",
   "execution_count": 25,
   "id": "654f4180",
   "metadata": {
    "execution": {
     "iopub.execute_input": "2022-09-16T05:42:20.849728Z",
     "iopub.status.busy": "2022-09-16T05:42:20.849316Z",
     "iopub.status.idle": "2022-09-16T05:42:20.856629Z",
     "shell.execute_reply": "2022-09-16T05:42:20.855615Z"
    },
    "papermill": {
     "duration": 0.022682,
     "end_time": "2022-09-16T05:42:20.860531",
     "exception": false,
     "start_time": "2022-09-16T05:42:20.837849",
     "status": "completed"
    },
    "tags": []
   },
   "outputs": [
    {
     "data": {
      "text/plain": [
       "array([[0., 0., 0., ..., 0., 0., 0.],\n",
       "       [0., 0., 0., ..., 0., 0., 0.],\n",
       "       [0., 0., 0., ..., 0., 0., 0.],\n",
       "       ...,\n",
       "       [0., 0., 0., ..., 0., 0., 0.],\n",
       "       [0., 0., 0., ..., 0., 0., 0.],\n",
       "       [0., 0., 0., ..., 0., 0., 0.]])"
      ]
     },
     "execution_count": 25,
     "metadata": {},
     "output_type": "execute_result"
    }
   ],
   "source": [
    "x_tf"
   ]
  },
  {
   "cell_type": "markdown",
   "id": "328278ee",
   "metadata": {
    "papermill": {
     "duration": 0.00994,
     "end_time": "2022-09-16T05:42:20.880916",
     "exception": false,
     "start_time": "2022-09-16T05:42:20.870976",
     "status": "completed"
    },
    "tags": []
   },
   "source": [
    "### Time To Train Models"
   ]
  },
  {
   "cell_type": "markdown",
   "id": "6a26224b",
   "metadata": {
    "papermill": {
     "duration": 0.010059,
     "end_time": "2022-09-16T05:42:20.901386",
     "exception": false,
     "start_time": "2022-09-16T05:42:20.891327",
     "status": "completed"
    },
    "tags": []
   },
   "source": [
    "### 1) MultinomialNB"
   ]
  },
  {
   "cell_type": "code",
   "execution_count": 26,
   "id": "30c52f6c",
   "metadata": {
    "execution": {
     "iopub.execute_input": "2022-09-16T05:42:20.925139Z",
     "iopub.status.busy": "2022-09-16T05:42:20.924316Z",
     "iopub.status.idle": "2022-09-16T05:42:21.005933Z",
     "shell.execute_reply": "2022-09-16T05:42:21.004402Z"
    },
    "papermill": {
     "duration": 0.097885,
     "end_time": "2022-09-16T05:42:21.010211",
     "exception": false,
     "start_time": "2022-09-16T05:42:20.912326",
     "status": "completed"
    },
    "tags": []
   },
   "outputs": [
    {
     "data": {
      "text/plain": [
       "MultinomialNB()"
      ]
     },
     "execution_count": 26,
     "metadata": {},
     "output_type": "execute_result"
    }
   ],
   "source": [
    "model =MultinomialNB()\n",
    "model.fit(x_tf,y_train)"
   ]
  },
  {
   "cell_type": "code",
   "execution_count": 27,
   "id": "f9544318",
   "metadata": {
    "execution": {
     "iopub.execute_input": "2022-09-16T05:42:21.068763Z",
     "iopub.status.busy": "2022-09-16T05:42:21.068099Z",
     "iopub.status.idle": "2022-09-16T05:42:21.108330Z",
     "shell.execute_reply": "2022-09-16T05:42:21.106778Z"
    },
    "papermill": {
     "duration": 0.07375,
     "end_time": "2022-09-16T05:42:21.113093",
     "exception": false,
     "start_time": "2022-09-16T05:42:21.039343",
     "status": "completed"
    },
    "tags": []
   },
   "outputs": [
    {
     "data": {
      "text/plain": [
       "0.3325"
      ]
     },
     "execution_count": 27,
     "metadata": {},
     "output_type": "execute_result"
    }
   ],
   "source": [
    "model.score(x_val_tf,y_test)"
   ]
  },
  {
   "cell_type": "markdown",
   "id": "63905e28",
   "metadata": {
    "papermill": {
     "duration": 0.026211,
     "end_time": "2022-09-16T05:42:21.166671",
     "exception": false,
     "start_time": "2022-09-16T05:42:21.140460",
     "status": "completed"
    },
    "tags": []
   },
   "source": [
    "## 2) LogisticRegression"
   ]
  },
  {
   "cell_type": "code",
   "execution_count": 28,
   "id": "f8ba5f0e",
   "metadata": {
    "execution": {
     "iopub.execute_input": "2022-09-16T05:42:21.220913Z",
     "iopub.status.busy": "2022-09-16T05:42:21.220548Z",
     "iopub.status.idle": "2022-09-16T05:42:21.855339Z",
     "shell.execute_reply": "2022-09-16T05:42:21.853948Z"
    },
    "papermill": {
     "duration": 0.664459,
     "end_time": "2022-09-16T05:42:21.858093",
     "exception": false,
     "start_time": "2022-09-16T05:42:21.193634",
     "status": "completed"
    },
    "tags": []
   },
   "outputs": [
    {
     "data": {
      "text/plain": [
       "LogisticRegression(C=1, solver='liblinear')"
      ]
     },
     "execution_count": 28,
     "metadata": {},
     "output_type": "execute_result"
    }
   ],
   "source": [
    "model =LogisticRegression(solver='liblinear',C=1)\n",
    "model.fit(x_tf,y_train)"
   ]
  },
  {
   "cell_type": "code",
   "execution_count": 29,
   "id": "6dcdfce7",
   "metadata": {
    "execution": {
     "iopub.execute_input": "2022-09-16T05:42:21.880979Z",
     "iopub.status.busy": "2022-09-16T05:42:21.880573Z",
     "iopub.status.idle": "2022-09-16T05:42:21.908011Z",
     "shell.execute_reply": "2022-09-16T05:42:21.906429Z"
    },
    "papermill": {
     "duration": 0.044347,
     "end_time": "2022-09-16T05:42:21.913202",
     "exception": false,
     "start_time": "2022-09-16T05:42:21.868855",
     "status": "completed"
    },
    "tags": []
   },
   "outputs": [
    {
     "data": {
      "text/plain": [
       "0.34375"
      ]
     },
     "execution_count": 29,
     "metadata": {},
     "output_type": "execute_result"
    }
   ],
   "source": [
    "model.score(x_val_tf,y_test)"
   ]
  },
  {
   "cell_type": "markdown",
   "id": "cb262e32",
   "metadata": {
    "papermill": {
     "duration": 0.027695,
     "end_time": "2022-09-16T05:42:21.970399",
     "exception": false,
     "start_time": "2022-09-16T05:42:21.942704",
     "status": "completed"
    },
    "tags": []
   },
   "source": [
    "## 3) RandomForestClassifier"
   ]
  },
  {
   "cell_type": "code",
   "execution_count": 30,
   "id": "6b5dedbd",
   "metadata": {
    "execution": {
     "iopub.execute_input": "2022-09-16T05:42:22.022711Z",
     "iopub.status.busy": "2022-09-16T05:42:22.022178Z",
     "iopub.status.idle": "2022-09-16T05:43:08.095917Z",
     "shell.execute_reply": "2022-09-16T05:43:08.094761Z"
    },
    "papermill": {
     "duration": 46.110451,
     "end_time": "2022-09-16T05:43:08.108767",
     "exception": false,
     "start_time": "2022-09-16T05:42:21.998316",
     "status": "completed"
    },
    "tags": []
   },
   "outputs": [
    {
     "data": {
      "text/plain": [
       "RandomForestClassifier()"
      ]
     },
     "execution_count": 30,
     "metadata": {},
     "output_type": "execute_result"
    }
   ],
   "source": [
    "model =RandomForestClassifier()\n",
    "model.fit(x_tf,y_train)"
   ]
  },
  {
   "cell_type": "code",
   "execution_count": 31,
   "id": "8863eb6e",
   "metadata": {
    "execution": {
     "iopub.execute_input": "2022-09-16T05:43:08.132213Z",
     "iopub.status.busy": "2022-09-16T05:43:08.131813Z",
     "iopub.status.idle": "2022-09-16T05:43:08.716491Z",
     "shell.execute_reply": "2022-09-16T05:43:08.715374Z"
    },
    "papermill": {
     "duration": 0.599772,
     "end_time": "2022-09-16T05:43:08.719091",
     "exception": false,
     "start_time": "2022-09-16T05:43:08.119319",
     "status": "completed"
    },
    "tags": []
   },
   "outputs": [
    {
     "data": {
      "text/plain": [
       "0.3415"
      ]
     },
     "execution_count": 31,
     "metadata": {},
     "output_type": "execute_result"
    }
   ],
   "source": [
    "model.score(x_val_tf,y_test)"
   ]
  },
  {
   "cell_type": "code",
   "execution_count": 32,
   "id": "73019677",
   "metadata": {
    "execution": {
     "iopub.execute_input": "2022-09-16T05:43:08.742897Z",
     "iopub.status.busy": "2022-09-16T05:43:08.742475Z",
     "iopub.status.idle": "2022-09-16T05:43:08.747477Z",
     "shell.execute_reply": "2022-09-16T05:43:08.746440Z"
    },
    "papermill": {
     "duration": 0.01933,
     "end_time": "2022-09-16T05:43:08.749690",
     "exception": false,
     "start_time": "2022-09-16T05:43:08.730360",
     "status": "completed"
    },
    "tags": []
   },
   "outputs": [],
   "source": [
    "##### Thanks #######"
   ]
  }
 ],
 "metadata": {
  "kernelspec": {
   "display_name": "Python 3",
   "language": "python",
   "name": "python3"
  },
  "language_info": {
   "codemirror_mode": {
    "name": "ipython",
    "version": 3
   },
   "file_extension": ".py",
   "mimetype": "text/x-python",
   "name": "python",
   "nbconvert_exporter": "python",
   "pygments_lexer": "ipython3",
   "version": "3.7.12"
  },
  "papermill": {
   "default_parameters": {},
   "duration": 132.321825,
   "end_time": "2022-09-16T05:43:09.884894",
   "environment_variables": {},
   "exception": null,
   "input_path": "__notebook__.ipynb",
   "output_path": "__notebook__.ipynb",
   "parameters": {},
   "start_time": "2022-09-16T05:40:57.563069",
   "version": "2.3.4"
  }
 },
 "nbformat": 4,
 "nbformat_minor": 5
}
